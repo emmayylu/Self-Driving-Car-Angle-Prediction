{
 "cells": [
  {
   "cell_type": "markdown",
   "metadata": {
    "colab_type": "text",
    "id": "bqtUPB9OM49F"
   },
   "source": [
    "### **Import Module**"
   ]
  },
  {
   "cell_type": "code",
   "execution_count": 1,
   "metadata": {
    "colab": {
     "base_uri": "https://localhost:8080/",
     "height": 34
    },
    "colab_type": "code",
    "id": "IPEpeTkV8qv-",
    "outputId": "778c3b52-37ed-4ee1-8fc3-8979040a2077"
   },
   "outputs": [
    {
     "name": "stderr",
     "output_type": "stream",
     "text": [
      "Using TensorFlow backend.\n"
     ]
    }
   ],
   "source": [
    "import pandas as pd\n",
    "import numpy as np\n",
    "import math\n",
    "import matplotlib.pyplot as plt\n",
    "import matplotlib.image as mpimg\n",
    "\n",
    "import keras\n",
    "from keras.models import Sequential\n",
    "from keras.optimizers import Adam\n",
    "from keras.layers import Conv2D,Dropout,Flatten,Dense, Activation\n",
    "from keras.optimizers import Adam\n",
    "from sklearn.utils import shuffle\n",
    "\n",
    "import cv2\n",
    "import zipfile\n",
    "\n",
    "\n"
   ]
  },
  {
   "cell_type": "markdown",
   "metadata": {
    "colab_type": "text",
    "id": "VRroHIxXNT_v"
   },
   "source": [
    "**Load Files**"
   ]
  },
  {
   "cell_type": "code",
   "execution_count": 2,
   "metadata": {
    "colab": {
     "base_uri": "https://localhost:8080/",
     "height": 122
    },
    "colab_type": "code",
    "id": "OnWoHK6qCTmw",
    "outputId": "c8a76b79-5e19-4cf0-f933-e4564ce87652"
   },
   "outputs": [],
   "source": [
    "zip_ref = zipfile.ZipFile(\"driving_dataset.zip\", 'r')\n",
    "zip_ref.extractall()\n",
    "zip_ref.close()"
   ]
  },
  {
   "cell_type": "code",
   "execution_count": 3,
   "metadata": {
    "colab": {
     "base_uri": "https://localhost:8080/",
     "height": 71
    },
    "colab_type": "code",
    "id": "FuIoYiDl8t2A",
    "outputId": "87ff746b-4dc1-49ad-b320-67e509efe1cd"
   },
   "outputs": [
    {
     "name": "stderr",
     "output_type": "stream",
     "text": [
      "/Users/luyongyi/anaconda3/lib/python3.7/site-packages/ipykernel_launcher.py:1: FutureWarning: read_table is deprecated, use read_csv instead.\n",
      "  \"\"\"Entry point for launching an IPython kernel.\n"
     ]
    }
   ],
   "source": [
    "data = pd.read_table(\"driving_dataset/data.txt\",delimiter = ' ',names= ['files','angles'], dtype ={'results': np.float16})"
   ]
  },
  {
   "cell_type": "markdown",
   "metadata": {},
   "source": [
    "**Replace Angles with Sin**"
   ]
  },
  {
   "cell_type": "code",
   "execution_count": 4,
   "metadata": {
    "colab": {
     "base_uri": "https://localhost:8080/",
     "height": 204
    },
    "colab_type": "code",
    "id": "-__09S9Le-CH",
    "outputId": "5c5acc3d-43e2-4261-849d-d93786904a3a"
   },
   "outputs": [
    {
     "data": {
      "text/html": [
       "<div>\n",
       "<style scoped>\n",
       "    .dataframe tbody tr th:only-of-type {\n",
       "        vertical-align: middle;\n",
       "    }\n",
       "\n",
       "    .dataframe tbody tr th {\n",
       "        vertical-align: top;\n",
       "    }\n",
       "\n",
       "    .dataframe thead th {\n",
       "        text-align: right;\n",
       "    }\n",
       "</style>\n",
       "<table border=\"1\" class=\"dataframe\">\n",
       "  <thead>\n",
       "    <tr style=\"text-align: right;\">\n",
       "      <th></th>\n",
       "      <th>files</th>\n",
       "      <th>sin</th>\n",
       "    </tr>\n",
       "  </thead>\n",
       "  <tbody>\n",
       "    <tr>\n",
       "      <th>0</th>\n",
       "      <td>0.jpg</td>\n",
       "      <td>0.0</td>\n",
       "    </tr>\n",
       "    <tr>\n",
       "      <th>1</th>\n",
       "      <td>1.jpg</td>\n",
       "      <td>0.0</td>\n",
       "    </tr>\n",
       "  </tbody>\n",
       "</table>\n",
       "</div>"
      ],
      "text/plain": [
       "   files  sin\n",
       "0  0.jpg  0.0\n",
       "1  1.jpg  0.0"
      ]
     },
     "execution_count": 4,
     "metadata": {},
     "output_type": "execute_result"
    }
   ],
   "source": [
    "data['sin'] = np.sin(np.radians(data['angles']))\n",
    "data = data.drop('angles', axis = 1)\n",
    "data.head(2)"
   ]
  },
  {
   "cell_type": "markdown",
   "metadata": {},
   "source": [
    "**Process Input Data**"
   ]
  },
  {
   "cell_type": "code",
   "execution_count": 5,
   "metadata": {
    "colab": {
     "base_uri": "https://localhost:8080/",
     "height": 269
    },
    "colab_type": "code",
    "id": "rIa2jJjyY5W6",
    "outputId": "fa014e47-f58a-405c-c13c-5ab7279a2d91"
   },
   "outputs": [
    {
     "data": {
      "image/png": "[encoded data removed]",
      "text/plain": [
       "<Figure size 432x288 with 1 Axes>"
      ]
     },
     "metadata": {
      "needs_background": "light"
     },
     "output_type": "display_data"
    }
   ],
   "source": [
    "plt.hist(data['sin'], bins=25,range=[-1,1],align='mid')\n",
    "plt.ylabel('Numbers of images')\n",
    "plt.show()"
   ]
  },
  {
   "cell_type": "code",
   "execution_count": 6,
   "metadata": {
    "colab": {
     "base_uri": "https://localhost:8080/",
     "height": 258
    },
    "colab_type": "code",
    "id": "Lq8ECeS2O7Uk",
    "outputId": "54ae0102-1f30-4963-80d0-35514597a792"
   },
   "outputs": [
    {
     "name": "stderr",
     "output_type": "stream",
     "text": [
      "/Users/luyongyi/anaconda3/lib/python3.7/site-packages/ipykernel_launcher.py:5: UserWarning: Boolean Series key will be reindexed to match DataFrame index.\n",
      "  \"\"\"\n"
     ]
    },
    {
     "data": {
      "text/html": [
       "<div>\n",
       "<style scoped>\n",
       "    .dataframe tbody tr th:only-of-type {\n",
       "        vertical-align: middle;\n",
       "    }\n",
       "\n",
       "    .dataframe tbody tr th {\n",
       "        vertical-align: top;\n",
       "    }\n",
       "\n",
       "    .dataframe thead th {\n",
       "        text-align: right;\n",
       "    }\n",
       "</style>\n",
       "<table border=\"1\" class=\"dataframe\">\n",
       "  <thead>\n",
       "    <tr style=\"text-align: right;\">\n",
       "      <th></th>\n",
       "      <th>files</th>\n",
       "      <th>sin</th>\n",
       "    </tr>\n",
       "  </thead>\n",
       "  <tbody>\n",
       "    <tr>\n",
       "      <th>0</th>\n",
       "      <td>0.jpg</td>\n",
       "      <td>0.0</td>\n",
       "    </tr>\n",
       "    <tr>\n",
       "      <th>1</th>\n",
       "      <td>1.jpg</td>\n",
       "      <td>0.0</td>\n",
       "    </tr>\n",
       "  </tbody>\n",
       "</table>\n",
       "</div>"
      ],
      "text/plain": [
       "   files  sin\n",
       "0  0.jpg  0.0\n",
       "1  1.jpg  0.0"
      ]
     },
     "execution_count": 6,
     "metadata": {},
     "output_type": "execute_result"
    }
   ],
   "source": [
    "mid_bar_start = -1+ (2/25)*12\n",
    "mid_bar_end = -1+ (2/25)*13\n",
    "larger_than_start = data['sin'] > mid_bar_start\n",
    "smaller_than_end = data['sin']<mid_bar_end\n",
    "mid_data = data[larger_than_start][smaller_than_end]\n",
    "mid_data.head(2)"
   ]
  },
  {
   "cell_type": "code",
   "execution_count": 7,
   "metadata": {
    "colab": {
     "base_uri": "https://localhost:8080/",
     "height": 153
    },
    "colab_type": "code",
    "id": "ZtU7eQArO7SE",
    "outputId": "38d4e87a-2d2a-4124-a8ee-94abbfe2b22a"
   },
   "outputs": [],
   "source": [
    "mid_data = shuffle(mid_data)\n",
    "num_rows = mid_data.shape[0]\n",
    "drop_rows = mid_data[:num_rows -7000]"
   ]
  },
  {
   "cell_type": "code",
   "execution_count": 8,
   "metadata": {
    "colab": {
     "base_uri": "https://localhost:8080/",
     "height": 204
    },
    "colab_type": "code",
    "id": "w_PMLAANO7Pe",
    "outputId": "4a4b8692-31d2-4329-f5fa-8d86c8140d14"
   },
   "outputs": [
    {
     "data": {
      "text/html": [
       "<div>\n",
       "<style scoped>\n",
       "    .dataframe tbody tr th:only-of-type {\n",
       "        vertical-align: middle;\n",
       "    }\n",
       "\n",
       "    .dataframe tbody tr th {\n",
       "        vertical-align: top;\n",
       "    }\n",
       "\n",
       "    .dataframe thead th {\n",
       "        text-align: right;\n",
       "    }\n",
       "</style>\n",
       "<table border=\"1\" class=\"dataframe\">\n",
       "  <thead>\n",
       "    <tr style=\"text-align: right;\">\n",
       "      <th></th>\n",
       "      <th>files</th>\n",
       "      <th>sin</th>\n",
       "    </tr>\n",
       "  </thead>\n",
       "  <tbody>\n",
       "    <tr>\n",
       "      <th>0</th>\n",
       "      <td>0.jpg</td>\n",
       "      <td>0.0</td>\n",
       "    </tr>\n",
       "    <tr>\n",
       "      <th>2</th>\n",
       "      <td>2.jpg</td>\n",
       "      <td>0.0</td>\n",
       "    </tr>\n",
       "  </tbody>\n",
       "</table>\n",
       "</div>"
      ],
      "text/plain": [
       "   files  sin\n",
       "0  0.jpg  0.0\n",
       "2  2.jpg  0.0"
      ]
     },
     "execution_count": 8,
     "metadata": {},
     "output_type": "execute_result"
    }
   ],
   "source": [
    "data = pd.concat([data,drop_rows]).drop_duplicates(keep=False)\n",
    "data.head(2)"
   ]
  },
  {
   "cell_type": "code",
   "execution_count": 9,
   "metadata": {
    "colab": {
     "base_uri": "https://localhost:8080/",
     "height": 269
    },
    "colab_type": "code",
    "id": "wb5J4cx9O7Mp",
    "outputId": "8f20b979-3a22-4218-ae85-31eed17c36d7"
   },
   "outputs": [
    {
     "data": {
      "image/png": "[encoded data removed]",
      "text/plain": [
       "<Figure size 432x288 with 1 Axes>"
      ]
     },
     "metadata": {
      "needs_background": "light"
     },
     "output_type": "display_data"
    }
   ],
   "source": [
    "plt.hist(data['sin'], bins=25,range=[-1,1],align='mid')\n",
    "plt.ylabel('Numbers of images')\n",
    "plt.show()"
   ]
  },
  {
   "cell_type": "markdown",
   "metadata": {
    "colab_type": "text",
    "id": "42J6VMPSiZBE"
   },
   "source": [
    "**Preprocess imagess**"
   ]
  },
  {
   "cell_type": "code",
   "execution_count": 10,
   "metadata": {
    "colab": {},
    "colab_type": "code",
    "id": "rw9SMPNuh6OS"
   },
   "outputs": [],
   "source": [
    "def preprocess_img(path):\n",
    "    img = mpimg.imread(path)\n",
    "    part = img[150:,:,:]\n",
    "    img = cv2.cvtColor(img, cv2.COLOR_RGB2YUV)\n",
    "    img = cv2.GaussianBlur(img,(3,3),0)\n",
    "    img = cv2.resize(img, (200,66))\n",
    "    img = img/255\n",
    "    return img\n",
    "  "
   ]
  },
  {
   "cell_type": "markdown",
   "metadata": {},
   "source": [
    "**Create a batch generator**"
   ]
  },
  {
   "cell_type": "code",
   "execution_count": 11,
   "metadata": {
    "colab": {
     "base_uri": "https://localhost:8080/",
     "height": 204
    },
    "colab_type": "code",
    "id": "F1IBGB7jrDqO",
    "outputId": "7136304a-d668-4039-acd6-598c4adc85f6"
   },
   "outputs": [
    {
     "data": {
      "text/html": [
       "<div>\n",
       "<style scoped>\n",
       "    .dataframe tbody tr th:only-of-type {\n",
       "        vertical-align: middle;\n",
       "    }\n",
       "\n",
       "    .dataframe tbody tr th {\n",
       "        vertical-align: top;\n",
       "    }\n",
       "\n",
       "    .dataframe thead th {\n",
       "        text-align: right;\n",
       "    }\n",
       "</style>\n",
       "<table border=\"1\" class=\"dataframe\">\n",
       "  <thead>\n",
       "    <tr style=\"text-align: right;\">\n",
       "      <th></th>\n",
       "      <th>files</th>\n",
       "      <th>sin</th>\n",
       "    </tr>\n",
       "  </thead>\n",
       "  <tbody>\n",
       "    <tr>\n",
       "      <th>0</th>\n",
       "      <td>32616.jpg</td>\n",
       "      <td>-0.469934</td>\n",
       "    </tr>\n",
       "    <tr>\n",
       "      <th>1</th>\n",
       "      <td>15532.jpg</td>\n",
       "      <td>-0.257470</td>\n",
       "    </tr>\n",
       "  </tbody>\n",
       "</table>\n",
       "</div>"
      ],
      "text/plain": [
       "       files       sin\n",
       "0  32616.jpg -0.469934\n",
       "1  15532.jpg -0.257470"
      ]
     },
     "execution_count": 11,
     "metadata": {},
     "output_type": "execute_result"
    }
   ],
   "source": [
    "#shuffle Dataframe, reset indexes\n",
    "data.sample(frac=1)\n",
    "data = data.sample(frac=1).reset_index(drop=True)\n",
    "data.head(2)"
   ]
  },
  {
   "cell_type": "code",
   "execution_count": 12,
   "metadata": {
    "colab": {},
    "colab_type": "code",
    "id": "9VRtUGwr6fKc"
   },
   "outputs": [],
   "source": [
    "def split_df(df,split_test):\n",
    "    df = df.sample(frac=1).reset_index(drop=True)\n",
    "    total_samples = df.shape[0]\n",
    "\n",
    "    num_train = total_samples * (1-split_test)\n",
    "    num_test = total_samples* split_test\n",
    "\n",
    "    train_df = df.loc[:num_train]\n",
    "    test_df = df.loc[num_train:]\n",
    "\n",
    "    return train_df, test_df"
   ]
  },
  {
   "cell_type": "code",
   "execution_count": 13,
   "metadata": {
    "colab": {
     "base_uri": "https://localhost:8080/",
     "height": 153
    },
    "colab_type": "code",
    "id": "AEzLKKh-7ckG",
    "outputId": "446ad27a-b07c-469e-90b1-07455c2c88e9"
   },
   "outputs": [
    {
     "name": "stdout",
     "output_type": "stream",
     "text": [
      "number of training data 31485\n",
      "number of testing data 7871\n"
     ]
    }
   ],
   "source": [
    "train_df, test_df = split_df(data,split_test = 0.2)\n",
    "print(\"number of training data\",train_df.shape[0])\n",
    "print(\"number of testing data\", test_df.shape[0])"
   ]
  },
  {
   "cell_type": "code",
   "execution_count": 14,
   "metadata": {
    "colab": {},
    "colab_type": "code",
    "id": "5pALHyEJm9ys"
   },
   "outputs": [],
   "source": [
    "def batch_generator(df,batch_size):\n",
    "    while True:\n",
    "        batch = df.sample(n = batch_size)\n",
    "        batch_paths  =  \"driving_dataset/\" + batch['files']\n",
    "        df_sin = batch['sin'] \n",
    "\n",
    "        batch_imgs = np.asarray(list(map(preprocess_img, batch_paths)))\n",
    "        batch_sin = np.asarray(df_sin)\n",
    "\n",
    "        yield (batch_imgs, batch_sin)\n",
    "  \n",
    "  \n",
    " \n",
    "  "
   ]
  },
  {
   "cell_type": "markdown",
   "metadata": {},
   "source": [
    "**Create a model**"
   ]
  },
  {
   "cell_type": "code",
   "execution_count": 16,
   "metadata": {
    "colab": {},
    "colab_type": "code",
    "id": "2oIByrhzsU4G"
   },
   "outputs": [],
   "source": [
    "def create_model():\n",
    "    model = Sequential()\n",
    "    model.add(Conv2D(24,(5,5),padding =\"valid\",strides = (2,2), input_shape = (66,200,3),activation = 'elu'))\n",
    "    model.add(Conv2D(36,(5,5),padding = \"valid\",strides = (2,2), activation = \"elu\"))\n",
    "    model.add(Conv2D(48,(5,5),padding = \"valid\",strides = (2,2), activation = \"elu\"))\n",
    "    model.add(Conv2D(64,(3,3),padding = \"valid\", activation = \"elu\"))\n",
    "    model.add(Conv2D(64,(3,3),padding = \"valid\", activation = \"elu\"))\n",
    "    model.add(Dropout(0.5))\n",
    "    model.add(Flatten())\n",
    "    model.add(Dense(100, activation = \"elu\",name = \"2nd_dense\"))\n",
    "    model.add(Dropout(0.5))\n",
    "    model.add(Dense(50, activation = \"elu\",name= \"3rd_dense\"))\n",
    "    model.add(Dense(10, activation = \"elu\",name = \"4th_dense\"))\n",
    "    model.add(Dense(1))\n",
    "    model.compile(optimizer = Adam(),loss=\"mse\")\n",
    "    return model\n",
    "\n"
   ]
  },
  {
   "cell_type": "code",
   "execution_count": 17,
   "metadata": {
    "colab": {
     "base_uri": "https://localhost:8080/",
     "height": 544
    },
    "colab_type": "code",
    "id": "FNYoNfuJsme7",
    "outputId": "03e295b2-b0d5-4165-9ca2-62e517e2daae"
   },
   "outputs": [
    {
     "name": "stderr",
     "output_type": "stream",
     "text": [
      "WARNING: Logging before flag parsing goes to stderr.\n",
      "W0822 10:27:17.791414 4704044480 deprecation_wrapper.py:119] From /Users/luyongyi/anaconda3/lib/python3.7/site-packages/keras/backend/tensorflow_backend.py:74: The name tf.get_default_graph is deprecated. Please use tf.compat.v1.get_default_graph instead.\n",
      "\n",
      "W0822 10:27:17.804074 4704044480 deprecation_wrapper.py:119] From /Users/luyongyi/anaconda3/lib/python3.7/site-packages/keras/backend/tensorflow_backend.py:517: The name tf.placeholder is deprecated. Please use tf.compat.v1.placeholder instead.\n",
      "\n",
      "W0822 10:27:17.806025 4704044480 deprecation_wrapper.py:119] From /Users/luyongyi/anaconda3/lib/python3.7/site-packages/keras/backend/tensorflow_backend.py:4138: The name tf.random_uniform is deprecated. Please use tf.random.uniform instead.\n",
      "\n",
      "W0822 10:27:17.849383 4704044480 deprecation_wrapper.py:119] From /Users/luyongyi/anaconda3/lib/python3.7/site-packages/keras/backend/tensorflow_backend.py:133: The name tf.placeholder_with_default is deprecated. Please use tf.compat.v1.placeholder_with_default instead.\n",
      "\n",
      "W0822 10:27:17.854853 4704044480 deprecation.py:506] From /Users/luyongyi/anaconda3/lib/python3.7/site-packages/keras/backend/tensorflow_backend.py:3445: calling dropout (from tensorflow.python.ops.nn_ops) with keep_prob is deprecated and will be removed in a future version.\n",
      "Instructions for updating:\n",
      "Please use `rate` instead of `keep_prob`. Rate should be set to `rate = 1 - keep_prob`.\n",
      "W0822 10:27:17.926195 4704044480 deprecation_wrapper.py:119] From /Users/luyongyi/anaconda3/lib/python3.7/site-packages/keras/optimizers.py:790: The name tf.train.Optimizer is deprecated. Please use tf.compat.v1.train.Optimizer instead.\n",
      "\n"
     ]
    },
    {
     "name": "stdout",
     "output_type": "stream",
     "text": [
      "_________________________________________________________________\n",
      "Layer (type)                 Output Shape              Param #   \n",
      "=================================================================\n",
      "conv2d_1 (Conv2D)            (None, 31, 98, 24)        1824      \n",
      "_________________________________________________________________\n",
      "conv2d_2 (Conv2D)            (None, 14, 47, 36)        21636     \n",
      "_________________________________________________________________\n",
      "conv2d_3 (Conv2D)            (None, 5, 22, 48)         43248     \n",
      "_________________________________________________________________\n",
      "conv2d_4 (Conv2D)            (None, 3, 20, 64)         27712     \n",
      "_________________________________________________________________\n",
      "conv2d_5 (Conv2D)            (None, 1, 18, 64)         36928     \n",
      "_________________________________________________________________\n",
      "dropout_1 (Dropout)          (None, 1, 18, 64)         0         \n",
      "_________________________________________________________________\n",
      "flatten_1 (Flatten)          (None, 1152)              0         \n",
      "_________________________________________________________________\n",
      "2nd_dense (Dense)            (None, 100)               115300    \n",
      "_________________________________________________________________\n",
      "dropout_2 (Dropout)          (None, 100)               0         \n",
      "_________________________________________________________________\n",
      "3rd_dense (Dense)            (None, 50)                5050      \n",
      "_________________________________________________________________\n",
      "4th_dense (Dense)            (None, 10)                510       \n",
      "_________________________________________________________________\n",
      "dense_1 (Dense)              (None, 1)                 11        \n",
      "=================================================================\n",
      "Total params: 252,219\n",
      "Trainable params: 252,219\n",
      "Non-trainable params: 0\n",
      "_________________________________________________________________\n"
     ]
    }
   ],
   "source": [
    "model = create_model()\n",
    "model.summary()"
   ]
  },
  {
   "cell_type": "markdown",
   "metadata": {},
   "source": [
    "**Fit data into the model**"
   ]
  },
  {
   "cell_type": "code",
   "execution_count": 18,
   "metadata": {},
   "outputs": [
    {
     "name": "stdout",
     "output_type": "stream",
     "text": [
      "491\n"
     ]
    }
   ],
   "source": [
    "steps_train = train_df.shape[0]//64\n",
    "print(steps_train)"
   ]
  },
  {
   "cell_type": "code",
   "execution_count": 19,
   "metadata": {
    "colab": {
     "base_uri": "https://localhost:8080/",
     "height": 221
    },
    "colab_type": "code",
    "id": "i63tgVjQsZce",
    "outputId": "bfec99e1-2f8a-4055-ae6f-fbcdd00dc706"
   },
   "outputs": [
    {
     "name": "stderr",
     "output_type": "stream",
     "text": [
      "W0822 10:27:18.141556 4704044480 deprecation_wrapper.py:119] From /Users/luyongyi/anaconda3/lib/python3.7/site-packages/keras/backend/tensorflow_backend.py:986: The name tf.assign_add is deprecated. Please use tf.compat.v1.assign_add instead.\n",
      "\n"
     ]
    },
    {
     "name": "stdout",
     "output_type": "stream",
     "text": [
      "Epoch 1/10\n",
      "491/491 [==============================] - 180s 368ms/step - loss: 0.0944 - val_loss: 0.0647\n",
      "Epoch 2/10\n",
      "491/491 [==============================] - 180s 366ms/step - loss: 0.0536 - val_loss: 0.0416\n",
      "Epoch 3/10\n",
      "491/491 [==============================] - 180s 366ms/step - loss: 0.0434 - val_loss: 0.0388\n",
      "Epoch 4/10\n",
      "491/491 [==============================] - 175s 356ms/step - loss: 0.0393 - val_loss: 0.0322\n",
      "Epoch 5/10\n",
      "491/491 [==============================] - 169s 345ms/step - loss: 0.0352 - val_loss: 0.0264\n",
      "Epoch 6/10\n",
      "491/491 [==============================] - 172s 351ms/step - loss: 0.0319 - val_loss: 0.0253\n",
      "Epoch 7/10\n",
      "491/491 [==============================] - 174s 355ms/step - loss: 0.0295 - val_loss: 0.0267\n",
      "Epoch 8/10\n",
      "491/491 [==============================] - 178s 363ms/step - loss: 0.0263 - val_loss: 0.0188\n",
      "Epoch 9/10\n",
      "491/491 [==============================] - 177s 361ms/step - loss: 0.0252 - val_loss: 0.0172\n",
      "Epoch 10/10\n",
      "491/491 [==============================] - 168s 342ms/step - loss: 0.0226 - val_loss: 0.0142\n"
     ]
    }
   ],
   "source": [
    "history = model.fit_generator(\n",
    "    batch_generator(train_df, batch_size = 64),\n",
    "    steps_per_epoch = train_df.shape[0]//64,\n",
    "    validation_data = batch_generator(test_df, batch_size = 64),\n",
    "    validation_steps = test_df.shape[0]//64,\n",
    "    verbose = 1,\n",
    "    epochs = 10)"
   ]
  },
  {
   "cell_type": "markdown",
   "metadata": {},
   "source": [
    "**Plot the result**"
   ]
  },
  {
   "cell_type": "code",
   "execution_count": 20,
   "metadata": {
    "colab": {
     "base_uri": "https://localhost:8080/",
     "height": 312
    },
    "colab_type": "code",
    "id": "ICFmbwplgaHr",
    "outputId": "6249bb73-d662-4ff1-df80-e565eb1b890e"
   },
   "outputs": [
    {
     "data": {
      "text/plain": [
       "Text(0.5, 0, 'Epoch')"
      ]
     },
     "execution_count": 20,
     "metadata": {},
     "output_type": "execute_result"
    },
    {
     "data": {
      "image/png": "[encoded data removed]",
      "text/plain": [
       "<Figure size 432x288 with 1 Axes>"
      ]
     },
     "metadata": {
      "needs_background": "light"
     },
     "output_type": "display_data"
    }
   ],
   "source": [
    "plt.plot(history.history['loss'])\n",
    "plt.plot(history.history['val_loss'])\n",
    "plt.legend(['training','validation'])\n",
    "plt.title('Loss')\n",
    "plt.xlabel('Epoch')"
   ]
  },
  {
   "cell_type": "code",
   "execution_count": 21,
   "metadata": {
    "colab": {},
    "colab_type": "code",
    "id": "_9dH4t5gHhEN"
   },
   "outputs": [],
   "source": [
    "model.save('model.h5')"
   ]
  },
  {
   "cell_type": "code",
   "execution_count": null,
   "metadata": {},
   "outputs": [],
   "source": []
  }
 ],
 "metadata": {
  "accelerator": "GPU",
  "colab": {
   "collapsed_sections": [],
   "name": ".ipynb",
   "provenance": [],
   "toc_visible": true,
   "version": "0.3.2"
  },
  "kernelspec": {
   "display_name": "Python 3",
   "language": "python",
   "name": "python3"
  },
  "language_info": {
   "codemirror_mode": {
    "name": "ipython",
    "version": 3
   },
   "file_extension": ".py",
   "mimetype": "text/x-python",
   "name": "python",
   "nbconvert_exporter": "python",
   "pygments_lexer": "ipython3",
   "version": "3.7.3"
  }
 },
 "nbformat": 4,
 "nbformat_minor": 1
}
