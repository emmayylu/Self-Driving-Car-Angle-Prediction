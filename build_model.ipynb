{
 "cells": [
  {
   "cell_type": "markdown",
   "metadata": {
    "colab_type": "text",
    "id": "bqtUPB9OM49F"
   },
   "source": [
    "## Import Module"
   ]
  },
  {
   "cell_type": "code",
   "execution_count": 1,
   "metadata": {
    "colab": {
     "base_uri": "https://localhost:8080/",
     "height": 34
    },
    "colab_type": "code",
    "id": "IPEpeTkV8qv-",
    "outputId": "778c3b52-37ed-4ee1-8fc3-8979040a2077"
   },
   "outputs": [
    {
     "name": "stderr",
     "output_type": "stream",
     "text": [
      "Using TensorFlow backend.\n"
     ]
    }
   ],
   "source": [
    "import pandas as pd\n",
    "import numpy as np\n",
    "import matplotlib.pyplot as plt\n",
    "import matplotlib.image as mpimg\n",
    "import cv2 as cv\n",
    "\n",
    "from numpy import percentile\n",
    "\n",
    "from keras.models import Sequential\n",
    "from keras.optimizers import Adam\n",
    "from keras.layers import Conv2D, Flatten,Dense, Activation\n",
    "from sklearn.utils import shuffle\n",
    "from keras.callbacks import EarlyStopping\n",
    "\n",
    "from sklearn.metrics import mean_squared_error, r2_score\n"
   ]
  },
  {
   "cell_type": "markdown",
   "metadata": {
    "colab_type": "text",
    "id": "VRroHIxXNT_v"
   },
   "source": [
    "## Load Data"
   ]
  },
  {
   "cell_type": "code",
   "execution_count": 2,
   "metadata": {
    "colab": {
     "base_uri": "https://localhost:8080/",
     "height": 71
    },
    "colab_type": "code",
    "id": "FuIoYiDl8t2A",
    "outputId": "87ff746b-4dc1-49ad-b320-67e509efe1cd"
   },
   "outputs": [],
   "source": [
    "data = pd.read_table(\"driving_dataset/data.txt\",delimiter = ' ',names= ['files','angles'], dtype ={'results': np.float16})"
   ]
  },
  {
   "cell_type": "markdown",
   "metadata": {},
   "source": [
    "## Round Angles"
   ]
  },
  {
   "cell_type": "code",
   "execution_count": 3,
   "metadata": {},
   "outputs": [],
   "source": [
    "data['angles'] = np.round(data['angles'])"
   ]
  },
  {
   "cell_type": "code",
   "execution_count": 4,
   "metadata": {},
   "outputs": [
    {
     "data": {
      "text/plain": [
       "<matplotlib.collections.PathCollection at 0x1a3366ada0>"
      ]
     },
     "execution_count": 4,
     "metadata": {},
     "output_type": "execute_result"
    },
    {
     "data": {
      "image/png": "[encoded data removed]",
      "text/plain": [
       "<Figure size 432x288 with 1 Axes>"
      ]
     },
     "metadata": {
      "needs_background": "light"
     },
     "output_type": "display_data"
    }
   ],
   "source": [
    "plt.scatter(data.angles.value_counts().index, data.angles.value_counts())"
   ]
  },
  {
   "cell_type": "markdown",
   "metadata": {},
   "source": [
    "## DROP DATA"
   ]
  },
  {
   "cell_type": "markdown",
   "metadata": {},
   "source": [
    "### Drop occcurrences < 200"
   ]
  },
  {
   "cell_type": "code",
   "execution_count": 5,
   "metadata": {},
   "outputs": [],
   "source": [
    "lessthan200 = data.angles.value_counts() <200\n",
    "selected_angles = data.angles.value_counts()[lessthan200].index.to_list()"
   ]
  },
  {
   "cell_type": "code",
   "execution_count": 6,
   "metadata": {},
   "outputs": [],
   "source": [
    "for angle in selected_angles:\n",
    "    data = data.loc[data.angles != angle]"
   ]
  },
  {
   "cell_type": "code",
   "execution_count": 7,
   "metadata": {},
   "outputs": [
    {
     "data": {
      "text/plain": [
       "<matplotlib.collections.PathCollection at 0x1a34ad47b8>"
      ]
     },
     "execution_count": 7,
     "metadata": {},
     "output_type": "execute_result"
    },
    {
     "data": {
      "image/png": "[encoded data removed]",
      "text/plain": [
       "<Figure size 432x288 with 1 Axes>"
      ]
     },
     "metadata": {
      "needs_background": "light"
     },
     "output_type": "display_data"
    }
   ],
   "source": [
    "plt.scatter(data.angles.value_counts().index, data.angles.value_counts())"
   ]
  },
  {
   "cell_type": "markdown",
   "metadata": {},
   "source": [
    "### Keep at most 3000 for each angle"
   ]
  },
  {
   "cell_type": "code",
   "execution_count": 8,
   "metadata": {},
   "outputs": [],
   "source": [
    "#shuffle Dataframe, reset indexes\n",
    "data.sample(frac=1)\n",
    "data = data.sample(frac=1).reset_index(drop=True)"
   ]
  },
  {
   "cell_type": "code",
   "execution_count": 9,
   "metadata": {},
   "outputs": [],
   "source": [
    "morethan3000 = data.angles.value_counts() >3000\n",
    "selected_angles = data.angles.value_counts()[morethan3000].index.to_list()"
   ]
  },
  {
   "cell_type": "code",
   "execution_count": 10,
   "metadata": {},
   "outputs": [],
   "source": [
    "for angle in selected_angles:\n",
    "    df = data.loc[data.angles == angle]\n",
    "    num_drop = round(df.shape[0] - 3000)\n",
    "    portion_drop = df.iloc[:num_drop,:]\n",
    "    data = pd.concat([data, portion_drop]).drop_duplicates(keep = False)"
   ]
  },
  {
   "cell_type": "code",
   "execution_count": 11,
   "metadata": {
    "scrolled": true
   },
   "outputs": [
    {
     "data": {
      "text/plain": [
       "<matplotlib.collections.PathCollection at 0x1a34b5e470>"
      ]
     },
     "execution_count": 11,
     "metadata": {},
     "output_type": "execute_result"
    },
    {
     "data": {
      "image/png": "[encoded data removed]",
      "text/plain": [
       "<Figure size 432x288 with 1 Axes>"
      ]
     },
     "metadata": {
      "needs_background": "light"
     },
     "output_type": "display_data"
    }
   ],
   "source": [
    "plt.scatter(data.angles.value_counts().index, data.angles.value_counts())"
   ]
  },
  {
   "cell_type": "markdown",
   "metadata": {},
   "source": [
    "### Remove Outliers"
   ]
  },
  {
   "cell_type": "code",
   "execution_count": 12,
   "metadata": {},
   "outputs": [
    {
     "name": "stdout",
     "output_type": "stream",
     "text": [
      "Upper =  24.5\n",
      "Lower =  -19.5\n"
     ]
    },
    {
     "data": {
      "text/plain": [
       "<matplotlib.collections.PathCollection at 0x1a337dc048>"
      ]
     },
     "execution_count": 12,
     "metadata": {},
     "output_type": "execute_result"
    },
    {
     "data": {
      "image/png": "[encoded data removed]",
      "text/plain": [
       "<Figure size 432x288 with 1 Axes>"
      ]
     },
     "metadata": {
      "needs_background": "light"
     },
     "output_type": "display_data"
    }
   ],
   "source": [
    "q25, q75 = percentile(data.angles, 25), percentile(data.angles, 75)\n",
    "iqr = q75 - q25\n",
    "lower, upper = q25 - 1.5*iqr, q75 + 1.5*iqr\n",
    "print('Upper = ', upper)\n",
    "print('Lower = ', lower)\n",
    "data = data.loc[data.angles > lower]\n",
    "data = data.loc[data.angles < upper]\n",
    "plt.scatter(data.angles.value_counts().index, data.angles.value_counts())"
   ]
  },
  {
   "cell_type": "markdown",
   "metadata": {
    "colab_type": "text",
    "id": "42J6VMPSiZBE"
   },
   "source": [
    "## Scale Pixels"
   ]
  },
  {
   "cell_type": "code",
   "execution_count": 13,
   "metadata": {
    "colab": {},
    "colab_type": "code",
    "id": "rw9SMPNuh6OS"
   },
   "outputs": [],
   "source": [
    "def preprocess_img(path):\n",
    "    img = mpimg.imread(path)\n",
    "    part = img[150:,:,:]\n",
    "    img = cv.cvtColor(part, cv.COLOR_RGB2YUV)\n",
    "    img = cv.GaussianBlur(img,(3,3),0)\n",
    "    img = cv.resize(img, (200,66))\n",
    "    img = img/255\n",
    "    return img\n",
    "  "
   ]
  },
  {
   "cell_type": "markdown",
   "metadata": {},
   "source": [
    "## Split Data"
   ]
  },
  {
   "cell_type": "code",
   "execution_count": 14,
   "metadata": {
    "colab": {
     "base_uri": "https://localhost:8080/",
     "height": 204
    },
    "colab_type": "code",
    "id": "F1IBGB7jrDqO",
    "outputId": "7136304a-d668-4039-acd6-598c4adc85f6"
   },
   "outputs": [],
   "source": [
    "#shuffle Dataframe, reset indexes\n",
    "data.sample(frac=1)\n",
    "data = data.sample(frac=1).reset_index(drop=True)"
   ]
  },
  {
   "cell_type": "code",
   "execution_count": 15,
   "metadata": {
    "colab": {},
    "colab_type": "code",
    "id": "9VRtUGwr6fKc"
   },
   "outputs": [],
   "source": [
    "def split_df(df,train_per, val_per):\n",
    "    df = df.sample(frac=1).reset_index(drop=True)\n",
    "    total_samples = df.shape[0]\n",
    "\n",
    "    num_train = total_samples * train_per\n",
    "    num_val = total_samples* val_per\n",
    "    \n",
    "    train_df = df.loc[:num_train]\n",
    "    val_df = df.loc[num_train:(num_train + num_val)]\n",
    "    test_df = df.loc[(num_train + num_val):]\n",
    "\n",
    "    return train_df, val_df, test_df"
   ]
  },
  {
   "cell_type": "code",
   "execution_count": 16,
   "metadata": {
    "colab": {
     "base_uri": "https://localhost:8080/",
     "height": 153
    },
    "colab_type": "code",
    "id": "AEzLKKh-7ckG",
    "outputId": "446ad27a-b07c-469e-90b1-07455c2c88e9",
    "scrolled": true
   },
   "outputs": [
    {
     "name": "stdout",
     "output_type": "stream",
     "text": [
      "number of training data 26340\n",
      "number of validation data 7726\n",
      "number of testing data 1053\n"
     ]
    }
   ],
   "source": [
    "train_df, val_df, test_df = split_df(data,train_per = 0.75, val_per= 0.22)\n",
    "print(\"number of training data\",train_df.shape[0])\n",
    "print(\"number of validation data\", val_df.shape[0])\n",
    "print(\"number of testing data\", test_df.shape[0])"
   ]
  },
  {
   "cell_type": "markdown",
   "metadata": {},
   "source": [
    "## Create a batch generator"
   ]
  },
  {
   "cell_type": "code",
   "execution_count": 17,
   "metadata": {
    "colab": {},
    "colab_type": "code",
    "id": "5pALHyEJm9ys"
   },
   "outputs": [],
   "source": [
    "def batch_generator(df,batch_size):\n",
    "    while True:\n",
    "        batch = df.sample(n = batch_size)\n",
    "        batch_paths  =  \"driving_dataset/\" + batch['files']\n",
    "        df_angles = batch['angles'] \n",
    "\n",
    "        batch_imgs = np.asarray(list(map(preprocess_img, batch_paths)))\n",
    "        batch_angles = np.asarray(df_angles)\n",
    "\n",
    "        yield (batch_imgs, batch_angles)\n",
    "  "
   ]
  },
  {
   "cell_type": "markdown",
   "metadata": {},
   "source": [
    "## Create a model"
   ]
  },
  {
   "cell_type": "code",
   "execution_count": 18,
   "metadata": {
    "colab": {},
    "colab_type": "code",
    "id": "2oIByrhzsU4G"
   },
   "outputs": [],
   "source": [
    "def create_model():\n",
    "    model = Sequential()\n",
    "    model.add(Conv2D(24,(5,5),padding =\"valid\",strides = (2,2), input_shape = (66,200,3),activation = 'elu'))\n",
    "    model.add(Conv2D(36,(5,5),padding = \"valid\",strides = (2,2), activation = \"elu\"))\n",
    "    model.add(Conv2D(48,(5,5),padding = \"valid\",strides = (2,2), activation = \"elu\"))\n",
    "    model.add(Conv2D(64,(3,3),padding = \"valid\", activation = \"elu\"))\n",
    "    model.add(Conv2D(64,(3,3),padding = \"valid\", activation = \"elu\"))\n",
    "    model.add(Flatten())\n",
    "    model.add(Dense(100, activation = \"elu\",name = \"2nd_dense\"))\n",
    "    model.add(Dense(50, activation = \"elu\",name= \"3rd_dense\"))\n",
    "    model.add(Dense(10, activation = \"elu\",name = \"4th_dense\"))\n",
    "    model.add(Dense(1))\n",
    "    model.compile(optimizer = Adam(lr = 0.0005),loss=\"mse\")#change lr\n",
    "    return model\n",
    "\n"
   ]
  },
  {
   "cell_type": "code",
   "execution_count": 19,
   "metadata": {
    "colab": {
     "base_uri": "https://localhost:8080/",
     "height": 544
    },
    "colab_type": "code",
    "id": "FNYoNfuJsme7",
    "outputId": "03e295b2-b0d5-4165-9ca2-62e517e2daae",
    "scrolled": false
   },
   "outputs": [
    {
     "name": "stderr",
     "output_type": "stream",
     "text": [
      "WARNING: Logging before flag parsing goes to stderr.\n",
      "W0504 12:30:57.090533 4525540800 deprecation_wrapper.py:119] From /Users/luyongyi/anaconda3/lib/python3.7/site-packages/keras/backend/tensorflow_backend.py:74: The name tf.get_default_graph is deprecated. Please use tf.compat.v1.get_default_graph instead.\n",
      "\n",
      "W0504 12:30:57.102170 4525540800 deprecation_wrapper.py:119] From /Users/luyongyi/anaconda3/lib/python3.7/site-packages/keras/backend/tensorflow_backend.py:517: The name tf.placeholder is deprecated. Please use tf.compat.v1.placeholder instead.\n",
      "\n",
      "W0504 12:30:57.104018 4525540800 deprecation_wrapper.py:119] From /Users/luyongyi/anaconda3/lib/python3.7/site-packages/keras/backend/tensorflow_backend.py:4138: The name tf.random_uniform is deprecated. Please use tf.random.uniform instead.\n",
      "\n",
      "W0504 12:30:57.188083 4525540800 deprecation_wrapper.py:119] From /Users/luyongyi/anaconda3/lib/python3.7/site-packages/keras/optimizers.py:790: The name tf.train.Optimizer is deprecated. Please use tf.compat.v1.train.Optimizer instead.\n",
      "\n"
     ]
    }
   ],
   "source": [
    "model = create_model()"
   ]
  },
  {
   "cell_type": "markdown",
   "metadata": {},
   "source": [
    "## Train Model"
   ]
  },
  {
   "cell_type": "code",
   "execution_count": 20,
   "metadata": {
    "scrolled": true
   },
   "outputs": [],
   "source": [
    "steps_train = train_df.shape[0]//64\n",
    "steps_val = val_df.shape[0]//64"
   ]
  },
  {
   "cell_type": "code",
   "execution_count": 21,
   "metadata": {},
   "outputs": [],
   "source": [
    "bs = 64\n",
    "es = EarlyStopping(mode='min', verbose=1, patience=1) #change patience\n",
    "ep = 30"
   ]
  },
  {
   "cell_type": "code",
   "execution_count": 22,
   "metadata": {
    "colab": {
     "base_uri": "https://localhost:8080/",
     "height": 221
    },
    "colab_type": "code",
    "id": "i63tgVjQsZce",
    "outputId": "bfec99e1-2f8a-4055-ae6f-fbcdd00dc706",
    "scrolled": true
   },
   "outputs": [
    {
     "name": "stderr",
     "output_type": "stream",
     "text": [
      "W0504 12:30:57.293786 4525540800 deprecation_wrapper.py:119] From /Users/luyongyi/anaconda3/lib/python3.7/site-packages/keras/backend/tensorflow_backend.py:986: The name tf.assign_add is deprecated. Please use tf.compat.v1.assign_add instead.\n",
      "\n",
      "W0504 12:30:57.450791 4525540800 deprecation_wrapper.py:119] From /Users/luyongyi/anaconda3/lib/python3.7/site-packages/keras/backend/tensorflow_backend.py:973: The name tf.assign is deprecated. Please use tf.compat.v1.assign instead.\n",
      "\n"
     ]
    },
    {
     "name": "stdout",
     "output_type": "stream",
     "text": [
      "Epoch 1/30\n",
      "411/411 [==============================] - 135s 327ms/step - loss: 45.9448 - val_loss: 27.7976\n",
      "Epoch 2/30\n",
      "411/411 [==============================] - 128s 312ms/step - loss: 18.3505 - val_loss: 16.1391\n",
      "Epoch 3/30\n",
      "411/411 [==============================] - 128s 312ms/step - loss: 10.9779 - val_loss: 11.5818\n",
      "Epoch 4/30\n",
      "411/411 [==============================] - 126s 307ms/step - loss: 7.5080 - val_loss: 8.4311\n",
      "Epoch 5/30\n",
      "411/411 [==============================] - 130s 317ms/step - loss: 5.7725 - val_loss: 7.2556\n",
      "Epoch 6/30\n",
      "411/411 [==============================] - 135s 328ms/step - loss: 4.8474 - val_loss: 6.6091\n",
      "Epoch 7/30\n",
      "411/411 [==============================] - 129s 314ms/step - loss: 3.8900 - val_loss: 5.9368\n",
      "Epoch 8/30\n",
      "411/411 [==============================] - 126s 306ms/step - loss: 3.2140 - val_loss: 5.4120\n",
      "Epoch 9/30\n",
      "411/411 [==============================] - 123s 300ms/step - loss: 3.1593 - val_loss: 4.7094\n",
      "Epoch 10/30\n",
      "411/411 [==============================] - 125s 303ms/step - loss: 2.8448 - val_loss: 4.8982\n",
      "Epoch 00010: early stopping\n"
     ]
    }
   ],
   "source": [
    "history = model.fit_generator(\n",
    "    batch_generator(train_df, batch_size = bs),\n",
    "    steps_per_epoch = steps_train,\n",
    "    validation_data = batch_generator(val_df, batch_size = bs),\n",
    "    validation_steps = steps_val,\n",
    "    callbacks=[es],\n",
    "    verbose = 1,\n",
    "    epochs = ep)"
   ]
  },
  {
   "cell_type": "markdown",
   "metadata": {},
   "source": [
    "## Plot the result"
   ]
  },
  {
   "cell_type": "code",
   "execution_count": 30,
   "metadata": {
    "colab": {
     "base_uri": "https://localhost:8080/",
     "height": 312
    },
    "colab_type": "code",
    "id": "ICFmbwplgaHr",
    "outputId": "6249bb73-d662-4ff1-df80-e565eb1b890e"
   },
   "outputs": [
    {
     "data": {
      "text/plain": [
       "Text(0.5, 0, 'Epoch')"
      ]
     },
     "execution_count": 30,
     "metadata": {},
     "output_type": "execute_result"
    },
    {
     "data": {
      "image/png": "[encoded data removed]",
      "text/plain": [
       "<Figure size 432x288 with 1 Axes>"
      ]
     },
     "metadata": {
      "needs_background": "light"
     },
     "output_type": "display_data"
    }
   ],
   "source": [
    "plt.plot(history.history['loss'])\n",
    "plt.plot(history.history['val_loss'])\n",
    "plt.legend(['training','validation'])\n",
    "plt.title('Loss')\n",
    "plt.xlabel('Epoch')"
   ]
  },
  {
   "cell_type": "code",
   "execution_count": 31,
   "metadata": {
    "colab": {},
    "colab_type": "code",
    "id": "_9dH4t5gHhEN"
   },
   "outputs": [],
   "source": [
    "model.save('model.h5')"
   ]
  },
  {
   "cell_type": "markdown",
   "metadata": {},
   "source": [
    "## Run Test Data"
   ]
  },
  {
   "cell_type": "code",
   "execution_count": 32,
   "metadata": {},
   "outputs": [],
   "source": [
    "def new_generator(df):\n",
    "    while True:\n",
    "        paths_series  =  \"driving_dataset/\" + df['files']\n",
    "\n",
    "        imgs = np.asarray(list(map(preprocess_img, paths_series)))\n",
    "\n",
    "        yield imgs"
   ]
  },
  {
   "cell_type": "code",
   "execution_count": 33,
   "metadata": {},
   "outputs": [],
   "source": [
    "test_pred = model.predict_generator(new_generator(test_df),1 )"
   ]
  },
  {
   "cell_type": "code",
   "execution_count": 34,
   "metadata": {
    "scrolled": true
   },
   "outputs": [
    {
     "data": {
      "text/plain": [
       "array([[-9.527071  ],\n",
       "       [19.53779   ],\n",
       "       [ 0.37830758],\n",
       "       ...,\n",
       "       [-3.6643147 ],\n",
       "       [-1.163045  ],\n",
       "       [ 5.295986  ]], dtype=float32)"
      ]
     },
     "execution_count": 34,
     "metadata": {},
     "output_type": "execute_result"
    }
   ],
   "source": [
    "test_pred"
   ]
  },
  {
   "cell_type": "code",
   "execution_count": 35,
   "metadata": {},
   "outputs": [
    {
     "name": "stdout",
     "output_type": "stream",
     "text": [
      "Test set mean squared error =  5.243600609401129\n",
      "Test set R2 =  0.9411402150313458\n"
     ]
    }
   ],
   "source": [
    "mse = mean_squared_error(test_df.angles, test_pred)\n",
    "r2 = r2_score(test_df.angles, test_pred)\n",
    "print('Test set mean squared error = ', mse)\n",
    "print('Test set R2 = ', r2)"
   ]
  },
  {
   "cell_type": "code",
   "execution_count": 36,
   "metadata": {
    "scrolled": false
   },
   "outputs": [
    {
     "data": {
      "text/plain": [
       "<matplotlib.collections.PathCollection at 0x1a35c20828>"
      ]
     },
     "execution_count": 36,
     "metadata": {},
     "output_type": "execute_result"
    },
    {
     "data": {
      "image/png": "[encoded data removed]",
      "text/plain": [
       "<Figure size 432x288 with 1 Axes>"
      ]
     },
     "metadata": {
      "needs_background": "light"
     },
     "output_type": "display_data"
    }
   ],
   "source": [
    "plt.scatter(test_df.angles,test_pred)"
   ]
  }
 ],
 "metadata": {
  "accelerator": "GPU",
  "colab": {
   "collapsed_sections": [],
   "name": ".ipynb",
   "provenance": [],
   "toc_visible": true,
   "version": "0.3.2"
  },
  "kernelspec": {
   "display_name": "Python 3",
   "language": "python",
   "name": "python3"
  },
  "language_info": {
   "codemirror_mode": {
    "name": "ipython",
    "version": 3
   },
   "file_extension": ".py",
   "mimetype": "text/x-python",
   "name": "python",
   "nbconvert_exporter": "python",
   "pygments_lexer": "ipython3",
   "version": "3.7.3"
  }
 },
 "nbformat": 4,
 "nbformat_minor": 1
}
